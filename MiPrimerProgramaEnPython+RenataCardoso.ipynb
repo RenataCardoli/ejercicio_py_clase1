{
  "nbformat": 4,
  "nbformat_minor": 0,
  "metadata": {
    "colab": {
      "name": "MiPrimerProgramaEnPython+RenataCardoso.ipynb",
      "provenance": [],
      "collapsed_sections": [],
      "authorship_tag": "ABX9TyMUyCHptBSPNnevSo6WVpnx",
      "include_colab_link": true
    },
    "kernelspec": {
      "name": "python3",
      "display_name": "Python 3"
    },
    "language_info": {
      "name": "python"
    }
  },
  "cells": [
    {
      "cell_type": "markdown",
      "metadata": {
        "id": "view-in-github",
        "colab_type": "text"
      },
      "source": [
        "<a href=\"https://colab.research.google.com/github/RenataCardoli/ejercicio_py_clase1/blob/main/MiPrimerProgramaEnPython%2BRenataCardoso.ipynb\" target=\"_parent\"><img src=\"https://colab.research.google.com/assets/colab-badge.svg\" alt=\"Open In Colab\"/></a>"
      ]
    },
    {
      "cell_type": "code",
      "execution_count": null,
      "metadata": {
        "id": "POjJXYOyKOBZ"
      },
      "outputs": [],
      "source": [
        "#@title % \n",
        "num1 = float(input(\"Enter nota 1 :\"))\n",
        "num2 = float(input(\"Enter nota 2 :\"))\n",
        "\n",
        "nota = (0.40*num1)+(0.60*num2)\n",
        "\n",
        "print(\"Tu nota final es: \",nota) "
      ]
    }
  ]
}